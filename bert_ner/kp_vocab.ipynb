{
 "cells": [
  {
   "cell_type": "code",
   "execution_count": 2,
   "metadata": {},
   "outputs": [],
   "source": [
    "kp20_path = \"../kp20k/finetuning/train_20.txt\"\n",
    "kp40_path = \"../kp20k/finetuning/train_40.txt\"\n",
    "kp60_path = \"../kp20k/finetuning/train_60.txt\""
   ]
  },
  {
   "cell_type": "code",
   "execution_count": 2,
   "metadata": {},
   "outputs": [
    {
     "name": "stderr",
     "output_type": "stream",
     "text": [
      "100%|██████████| 16164331/16164331 [00:08<00:00, 1877854.22it/s]\n",
      "100%|██████████| 32349047/32349047 [00:16<00:00, 1995903.23it/s]\n",
      "100%|██████████| 48521622/48521622 [00:28<00:00, 1699768.63it/s]\n"
     ]
    }
   ],
   "source": [
    "from tqdm import tqdm\n",
    "\n",
    "corpuses = []\n",
    "\n",
    "for path in [kp20_path, kp40_path, kp60_path]:\n",
    "    with open(path, 'r') as f:\n",
    "        corpus = \"\"\n",
    "        for i, l in enumerate(tqdm(f.read().split('\\n'))):\n",
    "            if i==0:\n",
    "                continue\n",
    "            piece = l.split(' ')[0]\n",
    "            if \"DOCSTART\" in piece:\n",
    "                corpus += '\\n'\n",
    "                continue\n",
    "            corpus += piece + ' '\n",
    "        corpuses.append(corpus)\n",
    "        #with open(\"./kp_vocab/\"+path.split('/')[-1].replace('.txt', '')+\"origin.txt\", 'wt') as f2:\n",
    "            #f2.write(corpus)"
   ]
  },
  {
   "cell_type": "code",
   "execution_count": 5,
   "metadata": {},
   "outputs": [],
   "source": [
    "raw_path = './kp20k_raw/'\n",
    "\n",
    "with open(raw_path+'20.txt', 'wt') as f:\n",
    "    for l in corpuses[0]:\n",
    "        f.write(l)\n",
    "with open(raw_path+'40.txt', 'wt') as f:\n",
    "    for l in corpuses[1]:\n",
    "        f.write(l)\n",
    "with open(raw_path+'60.txt', 'wt') as f:\n",
    "    for l in corpuses[2]:\n",
    "        f.write(l)"
   ]
  },
  {
   "cell_type": "code",
   "execution_count": 3,
   "metadata": {},
   "outputs": [
    {
     "data": {
      "text/plain": [
       "16164331"
      ]
     },
     "execution_count": 3,
     "metadata": {},
     "output_type": "execute_result"
    }
   ],
   "source": [
    "data = []\n",
    "with open(kp20_path, 'r+') as f:\n",
    "    for l in f.read().split('\\n'):\n",
    "        data.append(l)\n",
    "len(data)"
   ]
  },
  {
   "cell_type": "code",
   "execution_count": 4,
   "metadata": {},
   "outputs": [
    {
     "data": {
      "text/plain": [
       "['-DOCSTART- -X- -X- O',\n",
       " '',\n",
       " 'n JJ B-NP O',\n",
       " 'source NN I-NP O',\n",
       " 'and CC O O',\n",
       " 'destination NN B-NP O',\n",
       " 'pairs NNS O O',\n",
       " 'randomly RB O O',\n",
       " 'located VBN O O',\n",
       " 'in IN O O']"
      ]
     },
     "execution_count": 4,
     "metadata": {},
     "output_type": "execute_result"
    }
   ],
   "source": [
    "data[:10]"
   ]
  },
  {
   "cell_type": "code",
   "execution_count": 5,
   "metadata": {},
   "outputs": [],
   "source": [
    "with open(\"../kp20k/finetuning/train_1.txt\", 'wt') as f:\n",
    "    for d in data[:10000]:\n",
    "        f.write(d+'\\n')"
   ]
  },
  {
   "cell_type": "code",
   "execution_count": 6,
   "metadata": {},
   "outputs": [],
   "source": [
    "data = []\n",
    "with open(\"../kp20k/finetuning/valid_20.txt\", 'r+') as f:\n",
    "    for l in f.read().split('\\n'):\n",
    "        data.append(l)\n",
    "\n",
    "with open(\"../kp20k/finetuning/valid_1.txt\", 'wt') as f:\n",
    "    for d in data[:10000]:\n",
    "        f.write(d+'\\n')"
   ]
  },
  {
   "cell_type": "code",
   "execution_count": 7,
   "metadata": {},
   "outputs": [
    {
     "name": "stderr",
     "output_type": "stream",
     "text": [
      "100%|██████████| 10001/10001 [00:00<00:00, 1439457.61it/s]\n"
     ]
    }
   ],
   "source": [
    "from tqdm import tqdm\n",
    "\n",
    "corpuses = []\n",
    "\n",
    "for path in [\"../kp20k/finetuning/train_1.txt\"]:\n",
    "    with open(path, 'r') as f:\n",
    "        corpus = \"\"\n",
    "        for i, l in enumerate(tqdm(f.read().split('\\n'))):\n",
    "            if i==0:\n",
    "                continue\n",
    "            piece = l.split(' ')[0]\n",
    "            if \"DOCSTART\" in piece:\n",
    "                corpus += '\\n'\n",
    "                continue\n",
    "            corpus += piece + ' '\n",
    "        corpuses.append(corpus)\n",
    "        #with open(\"./kp_vocab/\"+path.split('/')[-1].replace('.txt', '')+\"origin.txt\", 'wt') as f2:\n",
    "            #f2.write(corpus)\n",
    "            \n",
    "raw_path = './kp20k_raw/'\n",
    "\n",
    "with open(raw_path+'1.txt', 'wt') as f:\n",
    "    for l in corpuses[0]:\n",
    "        f.write(l)"
   ]
  },
  {
   "cell_type": "code",
   "execution_count": null,
   "metadata": {},
   "outputs": [],
   "source": []
  }
 ],
 "metadata": {
  "kernelspec": {
   "display_name": "Python 3",
   "language": "python",
   "name": "python3"
  },
  "language_info": {
   "codemirror_mode": {
    "name": "ipython",
    "version": 3
   },
   "file_extension": ".py",
   "mimetype": "text/x-python",
   "name": "python",
   "nbconvert_exporter": "python",
   "pygments_lexer": "ipython3",
   "version": "3.6.8"
  }
 },
 "nbformat": 4,
 "nbformat_minor": 2
}
