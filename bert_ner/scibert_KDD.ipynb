{
 "cells": [
  {
   "cell_type": "code",
   "execution_count": 1,
   "metadata": {},
   "outputs": [],
   "source": [
    "#python3 train.py --finetuning --logdir finetuned_by_WWW --trainset /home/cilab/LabMembers/YS/WWW/finetuning/train.txt --validset /home/cilab/LabMembers/YS/WWW/finetuning/valid.txt\n",
    "import torch\n",
    "import torch.nn as nn\n",
    "import torch.optim as optim\n",
    "from torch.utils import data\n",
    "from data_load import NerDataset, pad, VOCAB, tag2idx, idx2tag\n",
    "import os\n",
    "import numpy as np\n",
    "import argparse\n",
    "from tensorboardX import SummaryWriter\n",
    "from pytorch_pretrained_bert import BertTokenizer"
   ]
  },
  {
   "cell_type": "code",
   "execution_count": 2,
   "metadata": {},
   "outputs": [],
   "source": [
    "tokenizer = BertTokenizer.from_pretrained(\"./bert_model/scibert_scivocab_uncased/vocab.txt\", do_lower_case=False)\n",
    "\n",
    "from tqdm import tqdm\n",
    "\n",
    "def train(model, iterator, optimizer, criterion):\n",
    "    model.train()\n",
    "    for i, batch in enumerate(tqdm(iterator)):\n",
    "        words, x, is_heads, tags, y, seqlens = batch\n",
    "        _y = y # for monitoring\n",
    "        optimizer.zero_grad()\n",
    "        logits, y, _ = model(x, y) # logits: (N, T, VOCAB), y: (N, T)\n",
    "\n",
    "        logits = logits.view(-1, logits.shape[-1]) # (N*T, VOCAB)\n",
    "        y = y.view(-1)  # (N*T,)\n",
    "\n",
    "        loss = criterion(logits, y)\n",
    "        loss.backward()\n",
    "\n",
    "        optimizer.step()\n",
    "\n",
    "        if i==0:\n",
    "            print(\"=====sanity check======\")\n",
    "            print(\"words:\", words[0])\n",
    "            print(\"x:\", x.cpu().numpy()[0][:seqlens[0]])\n",
    "            print(\"tokens:\", tokenizer.convert_ids_to_tokens(x.cpu().numpy()[0])[:seqlens[0]])\n",
    "            print(\"is_heads:\", is_heads[0])\n",
    "            print(\"y:\", _y.cpu().numpy()[0][:seqlens[0]])\n",
    "            print(\"tags:\", tags[0])\n",
    "            print(\"seqlen:\", seqlens[0])\n",
    "            print(\"=======================\")\n",
    "\n",
    "\n",
    "        if i%100==0: # monitoring\n",
    "            print(f\"step: {i} /{len(iterator)}, loss: {loss.item()}\")\n",
    "    return loss.item()"
   ]
  },
  {
   "cell_type": "code",
   "execution_count": 3,
   "metadata": {},
   "outputs": [],
   "source": [
    "def eval(model, iterator, f):\n",
    "    model.eval()\n",
    "    Words, Is_heads, Tags, Y, Y_hat = [], [], [], [], []\n",
    "    with torch.no_grad():\n",
    "        for i, batch in enumerate(tqdm(iterator)):\n",
    "            words, x, is_heads, tags, y, seqlens = batch\n",
    "\n",
    "            _, _, y_hat = model(x, y)  # y_hat: (N, T)\n",
    "\n",
    "            Words.extend(words)\n",
    "            Is_heads.extend(is_heads)\n",
    "            Tags.extend(tags)\n",
    "            Y.extend(y.numpy().tolist())\n",
    "            Y_hat.extend(y_hat.cpu().numpy().tolist())\n",
    "\n",
    "    ## gets results and save\n",
    "    with open(\"temp\", 'w') as fout:\n",
    "        for words, is_heads, tags, y_hat in zip(Words, Is_heads, Tags, Y_hat):\n",
    "            y_hat = [hat for head, hat in zip(is_heads, y_hat) if head == 1]\n",
    "            preds = [idx2tag[hat] for hat in y_hat]\n",
    "            assert len(preds)==len(words.split())==len(tags.split())\n",
    "            for w, t, p in zip(words.split()[1:-1], tags.split()[1:-1], preds[1:-1]):\n",
    "                fout.write(f\"{w} {t} {p}\\n\")\n",
    "            fout.write(\"\\n\")\n",
    "\n",
    "    ## calc metric\n",
    "    y_true =  np.array([tag2idx[line.split()[1]] for line in open(\"temp\", 'r').read().splitlines() if len(line) > 0])\n",
    "    y_pred =  np.array([tag2idx[line.split()[2]] for line in open(\"temp\", 'r').read().splitlines() if len(line) > 0])\n",
    "\n",
    "    num_proposed = len(y_pred[y_pred>1])\n",
    "    num_correct = (np.logical_and(y_true==y_pred, y_true>1)).astype(np.int).sum()\n",
    "    num_gold = len(y_true[y_true>1])\n",
    "\n",
    "    print(f\"num_proposed:{num_proposed}\")\n",
    "    print(f\"num_correct:{num_correct}\")\n",
    "    print(f\"num_gold:{num_gold}\")\n",
    "    try:\n",
    "        precision = num_correct / num_proposed\n",
    "    except ZeroDivisionError:\n",
    "        precision = 1.0\n",
    "\n",
    "    try:\n",
    "        recall = num_correct / num_gold\n",
    "    except ZeroDivisionError:\n",
    "        recall = 1.0\n",
    "\n",
    "    try:\n",
    "        f1 = 2*precision*recall / (precision + recall)\n",
    "    except ZeroDivisionError:\n",
    "        if precision*recall==0:\n",
    "            f1=1.0\n",
    "        else:\n",
    "            f1=0\n",
    "\n",
    "    final = f + \".P%.2f_R%.2f_F%.2f\" %(precision, recall, f1)\n",
    "    with open(final, 'w') as fout:\n",
    "        result = open(\"temp\", \"r\").read()\n",
    "        fout.write(f\"{result}\\n\")\n",
    "\n",
    "        fout.write(f\"precision={precision}\\n\")\n",
    "        fout.write(f\"recall={recall}\\n\")\n",
    "        fout.write(f\"f1={f1}\\n\")\n",
    "\n",
    "    os.remove(\"temp\")\n",
    "\n",
    "    print(\"precision=%.2f\"%precision)\n",
    "    print(\"recall=%.2f\"%recall)\n",
    "    print(\"f1=%.2f\"%f1)\n",
    "    return precision, recall, f1"
   ]
  },
  {
   "cell_type": "code",
   "execution_count": 4,
   "metadata": {},
   "outputs": [],
   "source": [
    "args = \"\"\"\n",
    "parser.add_argument(\"--batch_size\", type=int, default=8)\n",
    "parser.add_argument(\"--lr\", type=float, default=0.0001)\n",
    "parser.add_argument(\"--n_epochs\", type=int, default=5)\n",
    "parser.add_argument(\"--finetuning\", dest=\"finetuning\", action=\"store_true\")\n",
    "parser.add_argument(\"--top_rnns\", dest=\"top_rnns\", action=\"store_true\")\n",
    "parser.add_argument(\"--logdir\", type=str, default=\"./kp_pretrained_www/\")\n",
    "parser.add_argument(\"--trainset\", type=str, default=\"/home/cilab/LabMembers/YS/KDD/finetuning/train.txt\")\n",
    "parser.add_argument(\"--validset\", type=str, default=\"/home/cilab/LabMembers/YS/KDD/finetuning/valid.txt\")\n",
    "\"\"\""
   ]
  },
  {
   "cell_type": "code",
   "execution_count": 5,
   "metadata": {},
   "outputs": [],
   "source": [
    "class Args():\n",
    "    def __init__(self):\n",
    "        pass\n",
    "\n",
    "hp = Args()\n",
    "for l in args.split('\\n'):\n",
    "    if not \"parser\" in l:\n",
    "        continue\n",
    "    v = l[l.rfind('=')+1:-1]\n",
    "    if \"true\" in v:\n",
    "        v = True\n",
    "    elif \"False\" in v:\n",
    "        v = False\n",
    "    else:\n",
    "        try:\n",
    "            i = int(v)\n",
    "        except:\n",
    "            try:\n",
    "                v = float(v)\n",
    "                setattr(hp, l[l.find(\"--\")+2:l.find(\",\")-1], v)\n",
    "                continue\n",
    "            except:\n",
    "                setattr(hp, l[l.find(\"--\")+2:l.find(\",\")-1], v[1:-1])\n",
    "                continue\n",
    "        f = float(v)\n",
    "        if i==f:\n",
    "            v = int(v)\n",
    "        else:\n",
    "            v = float(v)\n",
    "    setattr(hp, l[l.find(\"--\")+2:l.find(\",\")-1], v)\n",
    "hp.lr = 5e-5\n",
    "hp.top_rnns = False\n",
    "hp.logdir = \"/mnt_data/models/scibert_KDD\""
   ]
  },
  {
   "cell_type": "code",
   "execution_count": 8,
   "metadata": {},
   "outputs": [],
   "source": [
    "import torch\n",
    "import torch.nn as nn\n",
    "from pytorch_pretrained_bert import BertModel\n",
    "\n",
    "class Net(nn.Module):\n",
    "    def __init__(self, top_rnns=False, vocab_size=None, device='cpu', finetuning=False, model='bert-base-cased'):\n",
    "        super().__init__()\n",
    "        self.bert = BertModel.from_pretrained(model)\n",
    "\n",
    "        self.top_rnns=top_rnns\n",
    "        if top_rnns:\n",
    "            self.rnn = nn.LSTM(bidirectional=True, num_layers=2, input_size=768, hidden_size=768//2, batch_first=True)\n",
    "        self.fc = nn.Linear(768, vocab_size)\n",
    "\n",
    "        self.device = device\n",
    "        self.finetuning = finetuning\n",
    "\n",
    "    def forward(self, x, y, ):\n",
    "        '''\n",
    "        x: (N, T). int64\n",
    "        y: (N, T). int64\n",
    "\n",
    "        Returns\n",
    "        enc: (N, T, VOCAB)\n",
    "        '''\n",
    "        x = x.to(self.device)\n",
    "        y = y.to(self.device)\n",
    "\n",
    "        if self.training and self.finetuning:\n",
    "            # print(\"->bert.train()\")\n",
    "            self.bert.train()\n",
    "            encoded_layers, _ = self.bert(x)\n",
    "            enc = encoded_layers[-1]\n",
    "        else:\n",
    "            self.bert.eval()\n",
    "            with torch.no_grad():\n",
    "                encoded_layers, _ = self.bert(x)\n",
    "                enc = encoded_layers[-1]\n",
    "\n",
    "        if self.top_rnns:\n",
    "            enc, _ = self.rnn(enc)\n",
    "        logits = self.fc(enc)\n",
    "        y_hat = logits.argmax(-1)\n",
    "\n",
    "        return logits, y, y_hat"
   ]
  },
  {
   "cell_type": "code",
   "execution_count": 9,
   "metadata": {},
   "outputs": [
    {
     "name": "stderr",
     "output_type": "stream",
     "text": [
      "  0%|          | 1/634 [00:01<14:02,  1.33s/it]"
     ]
    },
    {
     "name": "stdout",
     "output_type": "stream",
     "text": [
      "=====sanity check======\n",
      "words: [CLS] existing graph generation models do not exhibit these types of behavior , even at a qualitative level . [SEP]\n",
      "x: [ 102 3302 1845 3014 1262  572  302 5537  407 1910  131 1689  422 1390\n",
      "  235  106 6526  615  205  103]\n",
      "tokens: ['[CLS]', 'existing', 'graph', 'generation', 'models', 'do', 'not', 'exhibit', 'these', 'types', 'of', 'behavior', ',', 'even', 'at', 'a', 'qualitative', 'level', '.', '[SEP]']\n",
      "is_heads: [1, 1, 1, 1, 1, 1, 1, 1, 1, 1, 1, 1, 1, 1, 1, 1, 1, 1, 1, 1]\n",
      "y: [0 1 2 1 1 1 1 1 1 1 1 1 1 1 1 1 1 1 1 0]\n",
      "tags: <PAD> O B-KP O O O O O O O O O O O O O O O O <PAD>\n",
      "seqlen: 20\n",
      "=======================\n",
      "step: 0 /634, loss: 1.5029336214065552\n"
     ]
    },
    {
     "name": "stderr",
     "output_type": "stream",
     "text": [
      " 16%|█▌        | 101/634 [01:21<08:31,  1.04it/s]"
     ]
    },
    {
     "name": "stdout",
     "output_type": "stream",
     "text": [
      "step: 100 /634, loss: 0.14210844039916992\n"
     ]
    },
    {
     "name": "stderr",
     "output_type": "stream",
     "text": [
      " 32%|███▏      | 201/634 [03:06<07:43,  1.07s/it]"
     ]
    },
    {
     "name": "stdout",
     "output_type": "stream",
     "text": [
      "step: 200 /634, loss: 0.12192035466432571\n"
     ]
    },
    {
     "name": "stderr",
     "output_type": "stream",
     "text": [
      " 47%|████▋     | 301/634 [05:05<05:42,  1.03s/it]"
     ]
    },
    {
     "name": "stdout",
     "output_type": "stream",
     "text": [
      "step: 300 /634, loss: 0.347880095243454\n"
     ]
    },
    {
     "name": "stderr",
     "output_type": "stream",
     "text": [
      " 63%|██████▎   | 401/634 [06:51<03:32,  1.10it/s]"
     ]
    },
    {
     "name": "stdout",
     "output_type": "stream",
     "text": [
      "step: 400 /634, loss: 0.11123881489038467\n"
     ]
    },
    {
     "name": "stderr",
     "output_type": "stream",
     "text": [
      " 79%|███████▉  | 501/634 [08:41<02:10,  1.02it/s]"
     ]
    },
    {
     "name": "stdout",
     "output_type": "stream",
     "text": [
      "step: 500 /634, loss: 0.16059814393520355\n"
     ]
    },
    {
     "name": "stderr",
     "output_type": "stream",
     "text": [
      " 95%|█████████▍| 601/634 [10:24<00:34,  1.04s/it]"
     ]
    },
    {
     "name": "stdout",
     "output_type": "stream",
     "text": [
      "step: 600 /634, loss: 0.4009535312652588\n"
     ]
    },
    {
     "name": "stderr",
     "output_type": "stream",
     "text": [
      "100%|██████████| 634/634 [11:00<00:00,  1.04s/it]\n",
      "  0%|          | 0/82 [00:00<?, ?it/s]"
     ]
    },
    {
     "name": "stdout",
     "output_type": "stream",
     "text": [
      "=========eval at epoch=1=========\n"
     ]
    },
    {
     "name": "stderr",
     "output_type": "stream",
     "text": [
      "100%|██████████| 82/82 [00:53<00:00,  1.53it/s]\n"
     ]
    },
    {
     "name": "stdout",
     "output_type": "stream",
     "text": [
      "num_proposed:529\n",
      "num_correct:321\n",
      "num_gold:1033\n",
      "precision=0.61\n",
      "recall=0.31\n",
      "f1=0.41\n"
     ]
    },
    {
     "name": "stderr",
     "output_type": "stream",
     "text": [
      "\r",
      "  0%|          | 0/634 [00:00<?, ?it/s]"
     ]
    },
    {
     "name": "stdout",
     "output_type": "stream",
     "text": [
      "weights were saved to /mnt_data/models/scibert_KDD/1.pt\n"
     ]
    },
    {
     "name": "stderr",
     "output_type": "stream",
     "text": [
      "\r",
      "  0%|          | 1/634 [00:01<19:54,  1.89s/it]"
     ]
    },
    {
     "name": "stdout",
     "output_type": "stream",
     "text": [
      "=====sanity check======\n",
      "words: [CLS] we gathered 1971 benign and 1651 malicious executables and encoded each as a training example using n-grams of byte codes as features . [SEP]\n",
      "x: [  102   185 15024  2693 30130 10346   137 16912 30130 15473 26483 30113\n",
      "   137  9195   535   188   106  2208  1143   487   146   579 29809   131\n",
      " 23392  6095   188  1882   205   103]\n",
      "tokens: ['[CLS]', 'we', 'gathered', '197', '##1', 'benign', 'and', '165', '##1', 'malicious', 'executable', '##s', 'and', 'encoded', 'each', 'as', 'a', 'training', 'example', 'using', 'n', '-', 'grams', 'of', 'byte', 'codes', 'as', 'features', '.', '[SEP]']\n",
      "is_heads: [1, 1, 1, 1, 0, 1, 1, 1, 0, 1, 1, 0, 1, 1, 1, 1, 1, 1, 1, 1, 1, 0, 0, 1, 1, 1, 1, 1, 1, 1]\n",
      "y: [0 1 1 1 0 1 1 1 0 2 1 0 1 1 1 1 1 1 1 1 1 0 0 1 1 1 1 1 1 0]\n",
      "tags: <PAD> O O O O O O B-KP O O O O O O O O O O O O O O O O <PAD>\n",
      "seqlen: 30\n",
      "=======================\n",
      "step: 0 /634, loss: 0.17166893184185028\n"
     ]
    },
    {
     "name": "stderr",
     "output_type": "stream",
     "text": [
      " 16%|█▌        | 101/634 [01:49<09:33,  1.08s/it]"
     ]
    },
    {
     "name": "stdout",
     "output_type": "stream",
     "text": [
      "step: 100 /634, loss: 0.14588750898838043\n"
     ]
    },
    {
     "name": "stderr",
     "output_type": "stream",
     "text": [
      " 32%|███▏      | 201/634 [03:19<05:53,  1.23it/s]"
     ]
    },
    {
     "name": "stdout",
     "output_type": "stream",
     "text": [
      "step: 200 /634, loss: 0.21736468374729156\n"
     ]
    },
    {
     "name": "stderr",
     "output_type": "stream",
     "text": [
      " 47%|████▋     | 301/634 [04:40<04:30,  1.23it/s]"
     ]
    },
    {
     "name": "stdout",
     "output_type": "stream",
     "text": [
      "step: 300 /634, loss: 0.13726988434791565\n"
     ]
    },
    {
     "name": "stderr",
     "output_type": "stream",
     "text": [
      " 63%|██████▎   | 401/634 [06:03<03:43,  1.04it/s]"
     ]
    },
    {
     "name": "stdout",
     "output_type": "stream",
     "text": [
      "step: 400 /634, loss: 0.13486182689666748\n"
     ]
    },
    {
     "name": "stderr",
     "output_type": "stream",
     "text": [
      " 79%|███████▉  | 501/634 [07:43<01:55,  1.15it/s]"
     ]
    },
    {
     "name": "stdout",
     "output_type": "stream",
     "text": [
      "step: 500 /634, loss: 0.14838054776191711\n"
     ]
    },
    {
     "name": "stderr",
     "output_type": "stream",
     "text": [
      " 95%|█████████▍| 601/634 [09:24<00:28,  1.15it/s]"
     ]
    },
    {
     "name": "stdout",
     "output_type": "stream",
     "text": [
      "step: 600 /634, loss: 0.11923671513795853\n"
     ]
    },
    {
     "name": "stderr",
     "output_type": "stream",
     "text": [
      "100%|██████████| 634/634 [09:59<00:00,  1.06it/s]\n",
      "  0%|          | 0/82 [00:00<?, ?it/s]"
     ]
    },
    {
     "name": "stdout",
     "output_type": "stream",
     "text": [
      "=========eval at epoch=2=========\n"
     ]
    },
    {
     "name": "stderr",
     "output_type": "stream",
     "text": [
      "100%|██████████| 82/82 [00:53<00:00,  1.54it/s]\n"
     ]
    },
    {
     "name": "stdout",
     "output_type": "stream",
     "text": [
      "num_proposed:1044\n",
      "num_correct:500\n",
      "num_gold:1033\n",
      "precision=0.48\n",
      "recall=0.48\n",
      "f1=0.48\n"
     ]
    },
    {
     "name": "stderr",
     "output_type": "stream",
     "text": [
      "\r",
      "  0%|          | 0/634 [00:00<?, ?it/s]"
     ]
    },
    {
     "name": "stdout",
     "output_type": "stream",
     "text": [
      "weights were saved to /mnt_data/models/scibert_KDD/2.pt\n"
     ]
    },
    {
     "name": "stderr",
     "output_type": "stream",
     "text": [
      "\r",
      "  0%|          | 1/634 [00:01<16:37,  1.58s/it]"
     ]
    },
    {
     "name": "stdout",
     "output_type": "stream",
     "text": [
      "=====sanity check======\n",
      "words: [CLS] discovering frequent patterns in sensitive data discovering frequent patterns from data is a popular exploratory technique in datamining . [SEP]\n",
      "x: [  102 24367  5808  2465   121  4232   453 24367  5808  2465   263   453\n",
      "   165   106  6237 14933  2358   121   453  1254   140   205   103]\n",
      "tokens: ['[CLS]', 'discovering', 'frequent', 'patterns', 'in', 'sensitive', 'data', 'discovering', 'frequent', 'patterns', 'from', 'data', 'is', 'a', 'popular', 'exploratory', 'technique', 'in', 'data', '##min', '##ing', '.', '[SEP]']\n",
      "is_heads: [1, 1, 1, 1, 1, 1, 1, 1, 1, 1, 1, 1, 1, 1, 1, 1, 1, 1, 1, 0, 0, 1, 1]\n",
      "y: [0 1 2 3 1 1 1 1 2 3 1 1 1 1 1 1 1 1 1 0 0 1 0]\n",
      "tags: <PAD> O B-KP I-KP O O O O B-KP I-KP O O O O O O O O O O <PAD>\n",
      "seqlen: 23\n",
      "=======================\n",
      "step: 0 /634, loss: 0.17428305745124817\n"
     ]
    },
    {
     "name": "stderr",
     "output_type": "stream",
     "text": [
      " 15%|█▍        | 92/634 [01:34<08:51,  1.02it/s]"
     ]
    },
    {
     "ename": "KeyboardInterrupt",
     "evalue": "",
     "output_type": "error",
     "traceback": [
      "\u001b[0;31m---------------------------------------------------------------------------\u001b[0m",
      "\u001b[0;31mKeyboardInterrupt\u001b[0m                         Traceback (most recent call last)",
      "\u001b[0;32m<ipython-input-9-55ea74b9b9e2>\u001b[0m in \u001b[0;36m<module>\u001b[0;34m\u001b[0m\n\u001b[1;32m     33\u001b[0m \u001b[0;34m\u001b[0m\u001b[0m\n\u001b[1;32m     34\u001b[0m     \u001b[0;31m#model.rnn.flatten_parameters()\u001b[0m\u001b[0;34m\u001b[0m\u001b[0;34m\u001b[0m\u001b[0;34m\u001b[0m\u001b[0m\n\u001b[0;32m---> 35\u001b[0;31m     \u001b[0mloss\u001b[0m \u001b[0;34m=\u001b[0m \u001b[0mtrain\u001b[0m\u001b[0;34m(\u001b[0m\u001b[0mmodel\u001b[0m\u001b[0;34m,\u001b[0m \u001b[0mtrain_iter\u001b[0m\u001b[0;34m,\u001b[0m \u001b[0moptimizer\u001b[0m\u001b[0;34m,\u001b[0m \u001b[0mcriterion\u001b[0m\u001b[0;34m)\u001b[0m\u001b[0;34m\u001b[0m\u001b[0;34m\u001b[0m\u001b[0m\n\u001b[0m\u001b[1;32m     36\u001b[0m \u001b[0;34m\u001b[0m\u001b[0m\n\u001b[1;32m     37\u001b[0m     \u001b[0mprint\u001b[0m\u001b[0;34m(\u001b[0m\u001b[0;34mf\"=========eval at epoch={epoch}=========\"\u001b[0m\u001b[0;34m)\u001b[0m\u001b[0;34m\u001b[0m\u001b[0;34m\u001b[0m\u001b[0m\n",
      "\u001b[0;32m<ipython-input-2-217a2971d587>\u001b[0m in \u001b[0;36mtrain\u001b[0;34m(model, iterator, optimizer, criterion)\u001b[0m\n\u001b[1;32m     17\u001b[0m         \u001b[0mloss\u001b[0m\u001b[0;34m.\u001b[0m\u001b[0mbackward\u001b[0m\u001b[0;34m(\u001b[0m\u001b[0;34m)\u001b[0m\u001b[0;34m\u001b[0m\u001b[0;34m\u001b[0m\u001b[0m\n\u001b[1;32m     18\u001b[0m \u001b[0;34m\u001b[0m\u001b[0m\n\u001b[0;32m---> 19\u001b[0;31m         \u001b[0moptimizer\u001b[0m\u001b[0;34m.\u001b[0m\u001b[0mstep\u001b[0m\u001b[0;34m(\u001b[0m\u001b[0;34m)\u001b[0m\u001b[0;34m\u001b[0m\u001b[0;34m\u001b[0m\u001b[0m\n\u001b[0m\u001b[1;32m     20\u001b[0m \u001b[0;34m\u001b[0m\u001b[0m\n\u001b[1;32m     21\u001b[0m         \u001b[0;32mif\u001b[0m \u001b[0mi\u001b[0m\u001b[0;34m==\u001b[0m\u001b[0;36m0\u001b[0m\u001b[0;34m:\u001b[0m\u001b[0;34m\u001b[0m\u001b[0;34m\u001b[0m\u001b[0m\n",
      "\u001b[0;32m~/.local/lib/python3.6/site-packages/torch/optim/adam.py\u001b[0m in \u001b[0;36mstep\u001b[0;34m(self, closure)\u001b[0m\n\u001b[1;32m     93\u001b[0m \u001b[0;34m\u001b[0m\u001b[0m\n\u001b[1;32m     94\u001b[0m                 \u001b[0;31m# Decay the first and second moment running average coefficient\u001b[0m\u001b[0;34m\u001b[0m\u001b[0;34m\u001b[0m\u001b[0;34m\u001b[0m\u001b[0m\n\u001b[0;32m---> 95\u001b[0;31m                 \u001b[0mexp_avg\u001b[0m\u001b[0;34m.\u001b[0m\u001b[0mmul_\u001b[0m\u001b[0;34m(\u001b[0m\u001b[0mbeta1\u001b[0m\u001b[0;34m)\u001b[0m\u001b[0;34m.\u001b[0m\u001b[0madd_\u001b[0m\u001b[0;34m(\u001b[0m\u001b[0;36m1\u001b[0m \u001b[0;34m-\u001b[0m \u001b[0mbeta1\u001b[0m\u001b[0;34m,\u001b[0m \u001b[0mgrad\u001b[0m\u001b[0;34m)\u001b[0m\u001b[0;34m\u001b[0m\u001b[0;34m\u001b[0m\u001b[0m\n\u001b[0m\u001b[1;32m     96\u001b[0m                 \u001b[0mexp_avg_sq\u001b[0m\u001b[0;34m.\u001b[0m\u001b[0mmul_\u001b[0m\u001b[0;34m(\u001b[0m\u001b[0mbeta2\u001b[0m\u001b[0;34m)\u001b[0m\u001b[0;34m.\u001b[0m\u001b[0maddcmul_\u001b[0m\u001b[0;34m(\u001b[0m\u001b[0;36m1\u001b[0m \u001b[0;34m-\u001b[0m \u001b[0mbeta2\u001b[0m\u001b[0;34m,\u001b[0m \u001b[0mgrad\u001b[0m\u001b[0;34m,\u001b[0m \u001b[0mgrad\u001b[0m\u001b[0;34m)\u001b[0m\u001b[0;34m\u001b[0m\u001b[0;34m\u001b[0m\u001b[0m\n\u001b[1;32m     97\u001b[0m                 \u001b[0;32mif\u001b[0m \u001b[0mamsgrad\u001b[0m\u001b[0;34m:\u001b[0m\u001b[0;34m\u001b[0m\u001b[0;34m\u001b[0m\u001b[0m\n",
      "\u001b[0;31mKeyboardInterrupt\u001b[0m: "
     ]
    }
   ],
   "source": [
    "device = 'cuda' if torch.cuda.is_available() else 'cpu'\n",
    "summary = SummaryWriter()\n",
    "\n",
    "model = Net(hp.top_rnns, len(VOCAB), device, hp.finetuning, './bert_model/scibert_scivocab_uncased/').cuda()\n",
    "\"\"\"\n",
    "if hp.checkpoint:\n",
    "    print(\"load check point of model...\")\n",
    "    checkpoint = torch.load(hp.checkpoint)\n",
    "    print(checkpoint.keys())\n",
    "    model.load_state_dict(checkpoint['model_state_dict'],strict=False)\n",
    "\"\"\"\n",
    "model = nn.DataParallel(model)\n",
    "\n",
    "train_dataset = NerDataset(hp.trainset, tokenizer)\n",
    "eval_dataset = NerDataset(hp.validset, tokenizer)\n",
    "\n",
    "train_iter = data.DataLoader(dataset=train_dataset,\n",
    "                             batch_size=hp.batch_size,\n",
    "                             shuffle=True,\n",
    "                             num_workers=4,\n",
    "                             collate_fn=pad)\n",
    "\n",
    "eval_iter = data.DataLoader(dataset=eval_dataset,\n",
    "                             batch_size=hp.batch_size,\n",
    "                             shuffle=False,\n",
    "                             num_workers=4,\n",
    "                             collate_fn=pad)\n",
    "\n",
    "optimizer = optim.Adam(model.parameters(), lr = hp.lr)\n",
    "criterion = nn.CrossEntropyLoss(ignore_index=0)\n",
    "#lr_scheduler = optim.lr_scheduler.ReduceLROnPlateau(optimizer, patience=2, factor=0.1)\n",
    "for epoch in range(1, hp.n_epochs+1):\n",
    "\n",
    "    #model.rnn.flatten_parameters()\n",
    "    loss = train(model, train_iter, optimizer, criterion)\n",
    "\n",
    "    print(f\"=========eval at epoch={epoch}=========\")\n",
    "    if not os.path.exists(hp.logdir): os.makedirs(hp.logdir)\n",
    "    fname = os.path.join(hp.logdir, str(epoch))\n",
    "\n",
    "    #model.rnn.flatten_parameters()\n",
    "    precision, recall, f1 = eval(model, eval_iter, fname)\n",
    "\n",
    "    #torch.save(model.state_dict(), f\"{fname}.pt\")\n",
    "    try:\n",
    "        state_dict = model.module.state_dict()\n",
    "    except AttributeError:\n",
    "        state_dict = model.state_dict()\n",
    "    torch.save({\n",
    "        'epoch':hp.n_epochs,\n",
    "        'model_state_dict': state_dict,\n",
    "        'optimizer_state_dict': optimizer.state_dict()\n",
    "    },f\"{fname}.pt\")\n",
    "    torch.save(model, \"latest_model.pt\")\n",
    "    print(f\"weights were saved to {fname}.pt\")\n",
    "    summary.add_scalar('f1_score',f1, epoch)\n",
    "    summary.add_scalar('loss',loss, epoch)\n"
   ]
  },
  {
   "cell_type": "code",
   "execution_count": null,
   "metadata": {},
   "outputs": [],
   "source": []
  }
 ],
 "metadata": {
  "kernelspec": {
   "display_name": "Python 3",
   "language": "python",
   "name": "python3"
  },
  "language_info": {
   "codemirror_mode": {
    "name": "ipython",
    "version": 3
   },
   "file_extension": ".py",
   "mimetype": "text/x-python",
   "name": "python",
   "nbconvert_exporter": "python",
   "pygments_lexer": "ipython3",
   "version": "3.6.8"
  }
 },
 "nbformat": 4,
 "nbformat_minor": 2
}
