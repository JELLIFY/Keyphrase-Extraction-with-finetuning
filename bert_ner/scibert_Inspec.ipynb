{
 "cells": [
  {
   "cell_type": "code",
   "execution_count": 1,
   "metadata": {},
   "outputs": [],
   "source": [
    "#python3 train.py --finetuning --logdir finetuned_by_WWW --trainset /home/cilab/LabMembers/YS/WWW/finetuning/train.txt --validset /home/cilab/LabMembers/YS/WWW/finetuning/valid.txt\n",
    "import torch\n",
    "import torch.nn as nn\n",
    "import torch.optim as optim\n",
    "from torch.utils import data\n",
    "from data_load import NerDataset, pad, VOCAB, tag2idx, idx2tag\n",
    "import os\n",
    "import numpy as np\n",
    "import argparse\n",
    "from tensorboardX import SummaryWriter\n",
    "from model import Net\n",
    "from pytorch_pretrained_bert import BertTokenizer"
   ]
  },
  {
   "cell_type": "code",
   "execution_count": 2,
   "metadata": {},
   "outputs": [],
   "source": [
    "tokenizer = BertTokenizer.from_pretrained(\"./bert_model/scibert_scivocab_uncased/vocab.txt\", do_lower_case=False)\n",
    "\n",
    "from tqdm import tqdm\n",
    "\n",
    "def train(model, iterator, optimizer, criterion):\n",
    "    model.train()\n",
    "    for i, batch in enumerate(tqdm(iterator)):\n",
    "        words, x, is_heads, tags, y, seqlens = batch\n",
    "        _y = y # for monitoring\n",
    "        optimizer.zero_grad()\n",
    "        logits, y, _ = model(x, y) # logits: (N, T, VOCAB), y: (N, T)\n",
    "\n",
    "        logits = logits.view(-1, logits.shape[-1]) # (N*T, VOCAB)\n",
    "        y = y.view(-1)  # (N*T,)\n",
    "\n",
    "        loss = criterion(logits, y)\n",
    "        loss.backward()\n",
    "\n",
    "        optimizer.step()\n",
    "\n",
    "        if i==0:\n",
    "            print(\"=====sanity check======\")\n",
    "            print(\"words:\", words[0])\n",
    "            print(\"x:\", x.cpu().numpy()[0][:seqlens[0]])\n",
    "            print(\"tokens:\", tokenizer.convert_ids_to_tokens(x.cpu().numpy()[0])[:seqlens[0]])\n",
    "            print(\"is_heads:\", is_heads[0])\n",
    "            print(\"y:\", _y.cpu().numpy()[0][:seqlens[0]])\n",
    "            print(\"tags:\", tags[0])\n",
    "            print(\"seqlen:\", seqlens[0])\n",
    "            print(\"=======================\")\n",
    "\n",
    "\n",
    "        if i%100==0: # monitoring\n",
    "            print(f\"step: {i} /{len(iterator)}, loss: {loss.item()}\")\n",
    "    return loss.item()"
   ]
  },
  {
   "cell_type": "code",
   "execution_count": 3,
   "metadata": {},
   "outputs": [],
   "source": [
    "def eval(model, iterator, f):\n",
    "    model.eval()\n",
    "    Words, Is_heads, Tags, Y, Y_hat = [], [], [], [], []\n",
    "    with torch.no_grad():\n",
    "        for i, batch in enumerate(tqdm(iterator)):\n",
    "            words, x, is_heads, tags, y, seqlens = batch\n",
    "\n",
    "            _, _, y_hat = model(x, y)  # y_hat: (N, T)\n",
    "\n",
    "            Words.extend(words)\n",
    "            Is_heads.extend(is_heads)\n",
    "            Tags.extend(tags)\n",
    "            Y.extend(y.numpy().tolist())\n",
    "            Y_hat.extend(y_hat.cpu().numpy().tolist())\n",
    "\n",
    "    ## gets results and save\n",
    "    with open(\"temp\", 'w') as fout:\n",
    "        for words, is_heads, tags, y_hat in zip(Words, Is_heads, Tags, Y_hat):\n",
    "            y_hat = [hat for head, hat in zip(is_heads, y_hat) if head == 1]\n",
    "            preds = [idx2tag[hat] for hat in y_hat]\n",
    "            assert len(preds)==len(words.split())==len(tags.split())\n",
    "            for w, t, p in zip(words.split()[1:-1], tags.split()[1:-1], preds[1:-1]):\n",
    "                fout.write(f\"{w} {t} {p}\\n\")\n",
    "            fout.write(\"\\n\")\n",
    "\n",
    "    ## calc metric\n",
    "    y_true =  np.array([tag2idx[line.split()[1]] for line in open(\"temp\", 'r').read().splitlines() if len(line) > 0])\n",
    "    y_pred =  np.array([tag2idx[line.split()[2]] for line in open(\"temp\", 'r').read().splitlines() if len(line) > 0])\n",
    "\n",
    "    num_proposed = len(y_pred[y_pred>1])\n",
    "    num_correct = (np.logical_and(y_true==y_pred, y_true>1)).astype(np.int).sum()\n",
    "    num_gold = len(y_true[y_true>1])\n",
    "\n",
    "    print(f\"num_proposed:{num_proposed}\")\n",
    "    print(f\"num_correct:{num_correct}\")\n",
    "    print(f\"num_gold:{num_gold}\")\n",
    "    try:\n",
    "        precision = num_correct / num_proposed\n",
    "    except ZeroDivisionError:\n",
    "        precision = 1.0\n",
    "\n",
    "    try:\n",
    "        recall = num_correct / num_gold\n",
    "    except ZeroDivisionError:\n",
    "        recall = 1.0\n",
    "\n",
    "    try:\n",
    "        f1 = 2*precision*recall / (precision + recall)\n",
    "    except ZeroDivisionError:\n",
    "        if precision*recall==0:\n",
    "            f1=1.0\n",
    "        else:\n",
    "            f1=0\n",
    "\n",
    "    final = f + \".P%.2f_R%.2f_F%.2f\" %(precision, recall, f1)\n",
    "    with open(final, 'w') as fout:\n",
    "        result = open(\"temp\", \"r\").read()\n",
    "        fout.write(f\"{result}\\n\")\n",
    "\n",
    "        fout.write(f\"precision={precision}\\n\")\n",
    "        fout.write(f\"recall={recall}\\n\")\n",
    "        fout.write(f\"f1={f1}\\n\")\n",
    "\n",
    "    os.remove(\"temp\")\n",
    "\n",
    "    print(\"precision=%.2f\"%precision)\n",
    "    print(\"recall=%.2f\"%recall)\n",
    "    print(\"f1=%.2f\"%f1)\n",
    "    return precision, recall, f1"
   ]
  },
  {
   "cell_type": "code",
   "execution_count": 4,
   "metadata": {},
   "outputs": [],
   "source": [
    "args = \"\"\"\n",
    "parser.add_argument(\"--batch_size\", type=int, default=8)\n",
    "parser.add_argument(\"--lr\", type=float, default=0.0001)\n",
    "parser.add_argument(\"--n_epochs\", type=int, default=5)\n",
    "parser.add_argument(\"--finetuning\", dest=\"finetuning\", action=\"store_true\")\n",
    "parser.add_argument(\"--top_rnns\", dest=\"top_rnns\", action=\"store_true\")\n",
    "parser.add_argument(\"--logdir\", type=str, default=\"./kp_pretrained_www/\")\n",
    "parser.add_argument(\"--trainset\", type=str, default=\"/home/cilab/LabMembers/YS/Inspec/data/finetuning/train.txt\")\n",
    "parser.add_argument(\"--validset\", type=str, default=\"/home/cilab/LabMembers/YS/Inspec/data/finetuning/valid.txt\")\n",
    "\"\"\""
   ]
  },
  {
   "cell_type": "code",
   "execution_count": 6,
   "metadata": {},
   "outputs": [],
   "source": [
    "class Args():\n",
    "    def __init__(self):\n",
    "        pass\n",
    "\n",
    "hp = Args()\n",
    "for l in args.split('\\n'):\n",
    "    if not \"parser\" in l:\n",
    "        continue\n",
    "    v = l[l.rfind('=')+1:-1]\n",
    "    if \"true\" in v:\n",
    "        v = True\n",
    "    elif \"False\" in v:\n",
    "        v = False\n",
    "    else:\n",
    "        try:\n",
    "            i = int(v)\n",
    "        except:\n",
    "            try:\n",
    "                v = float(v)\n",
    "                setattr(hp, l[l.find(\"--\")+2:l.find(\",\")-1], v)\n",
    "                continue\n",
    "            except:\n",
    "                setattr(hp, l[l.find(\"--\")+2:l.find(\",\")-1], v[1:-1])\n",
    "                continue\n",
    "        f = float(v)\n",
    "        if i==f:\n",
    "            v = int(v)\n",
    "        else:\n",
    "            v = float(v)\n",
    "    setattr(hp, l[l.find(\"--\")+2:l.find(\",\")-1], v)\n",
    "hp.lr = 5e-5\n",
    "hp.top_rnns = False\n",
    "hp.logdir = \"/mnt_data/models/scibert_Inspec\""
   ]
  },
  {
   "cell_type": "code",
   "execution_count": 9,
   "metadata": {},
   "outputs": [],
   "source": [
    "import torch\n",
    "import torch.nn as nn\n",
    "from pytorch_pretrained_bert import BertModel\n",
    "\n",
    "class Net(nn.Module):\n",
    "    def __init__(self, top_rnns=False, vocab_size=None, device='cpu', finetuning=False, model='bert-base-cased'):\n",
    "        super().__init__()\n",
    "        self.bert = BertModel.from_pretrained(model)\n",
    "\n",
    "        self.top_rnns=top_rnns\n",
    "        if top_rnns:\n",
    "            self.rnn = nn.LSTM(bidirectional=True, num_layers=2, input_size=768, hidden_size=768//2, batch_first=True)\n",
    "        self.fc = nn.Linear(768, vocab_size)\n",
    "\n",
    "        self.device = device\n",
    "        self.finetuning = finetuning\n",
    "\n",
    "    def forward(self, x, y, ):\n",
    "        '''\n",
    "        x: (N, T). int64\n",
    "        y: (N, T). int64\n",
    "\n",
    "        Returns\n",
    "        enc: (N, T, VOCAB)\n",
    "        '''\n",
    "        x = x.to(self.device)\n",
    "        y = y.to(self.device)\n",
    "\n",
    "        if self.training and self.finetuning:\n",
    "            # print(\"->bert.train()\")\n",
    "            self.bert.train()\n",
    "            encoded_layers, _ = self.bert(x)\n",
    "            enc = encoded_layers[-1]\n",
    "        else:\n",
    "            self.bert.eval()\n",
    "            with torch.no_grad():\n",
    "                encoded_layers, _ = self.bert(x)\n",
    "                enc = encoded_layers[-1]\n",
    "\n",
    "        if self.top_rnns:\n",
    "            enc, _ = self.rnn(enc)\n",
    "        logits = self.fc(enc)\n",
    "        y_hat = logits.argmax(-1)\n",
    "\n",
    "        return logits, y, y_hat"
   ]
  },
  {
   "cell_type": "code",
   "execution_count": null,
   "metadata": {},
   "outputs": [
    {
     "name": "stderr",
     "output_type": "stream",
     "text": [
      "  0%|          | 1/820 [00:01<20:20,  1.49s/it]"
     ]
    },
    {
     "name": "stdout",
     "output_type": "stream",
     "text": [
      "=====sanity check======\n",
      "words: [CLS] the advantages in terms of increased transparency and mapping accuracy of the fuzzy response are demonstrated . [SEP]\n",
      "x: [  102   111  5729   121  1615   131  1175 15975   137  4125  2683   131\n",
      "   111  4942  1278   220  2275   205   103]\n",
      "tokens: ['[CLS]', 'the', 'advantages', 'in', 'terms', 'of', 'increased', 'transparency', 'and', 'mapping', 'accuracy', 'of', 'the', 'fuzzy', 'response', 'are', 'demonstrated', '.', '[SEP]']\n",
      "is_heads: [1, 1, 1, 1, 1, 1, 1, 1, 1, 1, 1, 1, 1, 1, 1, 1, 1, 1, 1]\n",
      "y: [0 1 1 1 1 1 1 1 1 1 1 1 1 2 1 1 1 1 0]\n",
      "tags: <PAD> O O O O O O O O O O O O B-KP O O O O <PAD>\n",
      "seqlen: 19\n",
      "=======================\n",
      "step: 0 /820, loss: 1.1034907102584839\n"
     ]
    },
    {
     "name": "stderr",
     "output_type": "stream",
     "text": [
      " 12%|█▏        | 101/820 [01:26<12:29,  1.04s/it]"
     ]
    },
    {
     "name": "stdout",
     "output_type": "stream",
     "text": [
      "step: 100 /820, loss: 0.1632142961025238\n"
     ]
    },
    {
     "name": "stderr",
     "output_type": "stream",
     "text": [
      " 25%|██▍       | 201/820 [03:14<12:50,  1.24s/it]"
     ]
    },
    {
     "name": "stdout",
     "output_type": "stream",
     "text": [
      "step: 200 /820, loss: 0.09372638911008835\n"
     ]
    },
    {
     "name": "stderr",
     "output_type": "stream",
     "text": [
      " 37%|███▋      | 301/820 [05:08<09:00,  1.04s/it]"
     ]
    },
    {
     "name": "stdout",
     "output_type": "stream",
     "text": [
      "step: 300 /820, loss: 0.07588985562324524\n"
     ]
    },
    {
     "name": "stderr",
     "output_type": "stream",
     "text": [
      " 49%|████▉     | 401/820 [06:55<06:38,  1.05it/s]"
     ]
    },
    {
     "name": "stdout",
     "output_type": "stream",
     "text": [
      "step: 400 /820, loss: 0.13388752937316895\n"
     ]
    },
    {
     "name": "stderr",
     "output_type": "stream",
     "text": [
      " 61%|██████    | 501/820 [08:45<06:30,  1.22s/it]"
     ]
    },
    {
     "name": "stdout",
     "output_type": "stream",
     "text": [
      "step: 500 /820, loss: 0.08507032692432404\n"
     ]
    },
    {
     "name": "stderr",
     "output_type": "stream",
     "text": [
      " 73%|███████▎  | 601/820 [10:27<04:07,  1.13s/it]"
     ]
    },
    {
     "name": "stdout",
     "output_type": "stream",
     "text": [
      "step: 600 /820, loss: 0.03227554261684418\n"
     ]
    },
    {
     "name": "stderr",
     "output_type": "stream",
     "text": [
      " 85%|████████▌ | 701/820 [12:08<01:53,  1.05it/s]"
     ]
    },
    {
     "name": "stdout",
     "output_type": "stream",
     "text": [
      "step: 700 /820, loss: 0.04976249486207962\n"
     ]
    },
    {
     "name": "stderr",
     "output_type": "stream",
     "text": [
      " 98%|█████████▊| 801/820 [13:55<00:22,  1.16s/it]"
     ]
    },
    {
     "name": "stdout",
     "output_type": "stream",
     "text": [
      "step: 800 /820, loss: 0.15311922132968903\n"
     ]
    },
    {
     "name": "stderr",
     "output_type": "stream",
     "text": [
      "100%|██████████| 820/820 [14:15<00:00,  1.04s/it]\n",
      "  0%|          | 0/391 [00:00<?, ?it/s]"
     ]
    },
    {
     "name": "stdout",
     "output_type": "stream",
     "text": [
      "=========eval at epoch=1=========\n"
     ]
    },
    {
     "name": "stderr",
     "output_type": "stream",
     "text": [
      "100%|██████████| 391/391 [04:10<00:00,  1.56it/s]\n"
     ]
    },
    {
     "name": "stdout",
     "output_type": "stream",
     "text": [
      "num_proposed:1978\n",
      "num_correct:980\n",
      "num_gold:2481\n",
      "precision=0.50\n",
      "recall=0.40\n",
      "f1=0.44\n"
     ]
    },
    {
     "name": "stderr",
     "output_type": "stream",
     "text": [
      "\r",
      "  0%|          | 0/820 [00:00<?, ?it/s]"
     ]
    },
    {
     "name": "stdout",
     "output_type": "stream",
     "text": [
      "weights were saved to /mnt_data/models/scibert_Inspec/1.pt\n"
     ]
    },
    {
     "name": "stderr",
     "output_type": "stream",
     "text": [
      "\r",
      "  0%|          | 1/820 [00:01<23:21,  1.71s/it]"
     ]
    },
    {
     "name": "stdout",
     "output_type": "stream",
     "text": [
      "=====sanity check======\n",
      "words: [CLS] the discrete ( in time and space ) cml models consist of a series of diffusively coupled circle map oscillators along the cable span . [SEP]\n",
      "x: [  102   111  4829   145   121   532   137  1630   546 23340  1262  1603\n",
      "   131   106  2568   131 29571   179  5677  9558  2605 23608  2252   111\n",
      " 14673  6934   205   103]\n",
      "tokens: ['[CLS]', 'the', 'discrete', '(', 'in', 'time', 'and', 'space', ')', 'cml', 'models', 'consist', 'of', 'a', 'series', 'of', 'diffusive', '##ly', 'coupled', 'circle', 'map', 'oscillators', 'along', 'the', 'cable', 'span', '.', '[SEP]']\n",
      "is_heads: [1, 1, 1, 1, 1, 1, 1, 1, 1, 1, 1, 1, 1, 1, 1, 1, 1, 0, 1, 1, 1, 1, 1, 1, 1, 1, 1, 1]\n",
      "y: [0 1 1 1 1 1 1 1 1 1 1 1 1 1 1 1 1 0 1 1 1 1 1 1 1 1 1 0]\n",
      "tags: <PAD> O O O O O O O O O O O O O O O O O O O O O O O O O <PAD>\n",
      "seqlen: 28\n",
      "=======================\n",
      "step: 0 /820, loss: 0.025967596098780632\n"
     ]
    },
    {
     "name": "stderr",
     "output_type": "stream",
     "text": [
      " 12%|█▏        | 101/820 [01:41<11:08,  1.08it/s]"
     ]
    },
    {
     "name": "stdout",
     "output_type": "stream",
     "text": [
      "step: 100 /820, loss: 0.020655227825045586\n"
     ]
    },
    {
     "name": "stderr",
     "output_type": "stream",
     "text": [
      " 25%|██▍       | 201/820 [03:23<09:53,  1.04it/s]"
     ]
    },
    {
     "name": "stdout",
     "output_type": "stream",
     "text": [
      "step: 200 /820, loss: 0.020928330719470978\n"
     ]
    },
    {
     "name": "stderr",
     "output_type": "stream",
     "text": [
      " 37%|███▋      | 301/820 [05:03<09:16,  1.07s/it]"
     ]
    },
    {
     "name": "stdout",
     "output_type": "stream",
     "text": [
      "step: 300 /820, loss: 0.02921415865421295\n"
     ]
    },
    {
     "name": "stderr",
     "output_type": "stream",
     "text": [
      " 41%|████      | 335/820 [05:38<07:49,  1.03it/s]"
     ]
    }
   ],
   "source": [
    "device = 'cuda' if torch.cuda.is_available() else 'cpu'\n",
    "summary = SummaryWriter()\n",
    "\n",
    "model = Net(hp.top_rnns, len(VOCAB), device, hp.finetuning, './bert_model/scibert_scivocab_uncased/').cuda()\n",
    "\"\"\"\n",
    "if hp.checkpoint:\n",
    "    print(\"load check point of model...\")\n",
    "    checkpoint = torch.load(hp.checkpoint)\n",
    "    print(checkpoint.keys())\n",
    "    model.load_state_dict(checkpoint['model_state_dict'],strict=False)\n",
    "\"\"\"\n",
    "model = nn.DataParallel(model)\n",
    "\n",
    "train_dataset = NerDataset(hp.trainset, tokenizer)\n",
    "eval_dataset = NerDataset(hp.validset, tokenizer)\n",
    "\n",
    "train_iter = data.DataLoader(dataset=train_dataset,\n",
    "                             batch_size=hp.batch_size,\n",
    "                             shuffle=True,\n",
    "                             num_workers=4,\n",
    "                             collate_fn=pad)\n",
    "\n",
    "eval_iter = data.DataLoader(dataset=eval_dataset,\n",
    "                             batch_size=hp.batch_size,\n",
    "                             shuffle=False,\n",
    "                             num_workers=4,\n",
    "                             collate_fn=pad)\n",
    "\n",
    "optimizer = optim.Adam(model.parameters(), lr = hp.lr)\n",
    "criterion = nn.CrossEntropyLoss(ignore_index=0)\n",
    "#lr_scheduler = optim.lr_scheduler.ReduceLROnPlateau(optimizer, patience=2, factor=0.1)\n",
    "for epoch in range(1, hp.n_epochs+1):\n",
    "\n",
    "    #model.rnn.flatten_parameters()\n",
    "    loss = train(model, train_iter, optimizer, criterion)\n",
    "\n",
    "    print(f\"=========eval at epoch={epoch}=========\")\n",
    "    if not os.path.exists(hp.logdir): os.makedirs(hp.logdir)\n",
    "    fname = os.path.join(hp.logdir, str(epoch))\n",
    "\n",
    "    #model.rnn.flatten_parameters()\n",
    "    precision, recall, f1 = eval(model, eval_iter, fname)\n",
    "\n",
    "    #torch.save(model.state_dict(), f\"{fname}.pt\")\n",
    "    try:\n",
    "        state_dict = model.module.state_dict()\n",
    "    except AttributeError:\n",
    "        state_dict = model.state_dict()\n",
    "    torch.save({\n",
    "        'epoch':hp.n_epochs,\n",
    "        'model_state_dict': state_dict,\n",
    "        'optimizer_state_dict': optimizer.state_dict()\n",
    "    },f\"{fname}.pt\")\n",
    "    torch.save(model, \"latest_model.pt\")\n",
    "    print(f\"weights were saved to {fname}.pt\")\n",
    "    summary.add_scalar('f1_score',f1, epoch)\n",
    "    summary.add_scalar('loss',loss, epoch)\n"
   ]
  },
  {
   "cell_type": "code",
   "execution_count": null,
   "metadata": {},
   "outputs": [],
   "source": []
  }
 ],
 "metadata": {
  "kernelspec": {
   "display_name": "Python 3",
   "language": "python",
   "name": "python3"
  },
  "language_info": {
   "codemirror_mode": {
    "name": "ipython",
    "version": 3
   },
   "file_extension": ".py",
   "mimetype": "text/x-python",
   "name": "python",
   "nbconvert_exporter": "python",
   "pygments_lexer": "ipython3",
   "version": "3.6.8"
  }
 },
 "nbformat": 4,
 "nbformat_minor": 2
}
