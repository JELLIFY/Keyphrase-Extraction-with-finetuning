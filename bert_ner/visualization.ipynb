{
 "cells": [
  {
   "cell_type": "code",
   "execution_count": 2,
   "metadata": {},
   "outputs": [],
   "source": [
    "import numpy as np, pandas as pd \n",
    "import os\n",
    "import zipfile\n",
    "\n",
    "from sklearn.decomposition import PCA\n",
    "from sklearn.manifold import TSNE\n",
    "from scipy import stats\n",
    "\n",
    "import matplotlib.pyplot as plt \n",
    "import seaborn as sns\n",
    "%matplotlib inline"
   ]
  },
  {
   "cell_type": "code",
   "execution_count": 20,
   "metadata": {},
   "outputs": [],
   "source": [
    "bert_output = pd.read_json(\"KDD_output.jsonl\", lines = True)"
   ]
  },
  {
   "cell_type": "code",
   "execution_count": 21,
   "metadata": {},
   "outputs": [
    {
     "data": {
      "text/plain": [
       "0        [{'token': '[CLS]', 'layers': [{'index': -1, '...\n",
       "1        [{'token': '[CLS]', 'layers': [{'index': -1, '...\n",
       "2        [{'token': '[CLS]', 'layers': [{'index': -1, '...\n",
       "3        [{'token': '[CLS]', 'layers': [{'index': -1, '...\n",
       "4        [{'token': '[CLS]', 'layers': [{'index': -1, '...\n",
       "                               ...                        \n",
       "19460    [{'token': '[CLS]', 'layers': [{'index': -1, '...\n",
       "19461    [{'token': '[CLS]', 'layers': [{'index': -1, '...\n",
       "19462    [{'token': '[CLS]', 'layers': [{'index': -1, '...\n",
       "19463    [{'token': '[CLS]', 'layers': [{'index': -1, '...\n",
       "19464    [{'token': '[CLS]', 'layers': [{'index': -1, '...\n",
       "Name: features, Length: 19465, dtype: object"
      ]
     },
     "execution_count": 21,
     "metadata": {},
     "output_type": "execute_result"
    }
   ],
   "source": [
    "bert_output['features']"
   ]
  },
  {
   "cell_type": "code",
   "execution_count": null,
   "metadata": {},
   "outputs": [],
   "source": []
  }
 ],
 "metadata": {
  "kernelspec": {
   "display_name": "Python 3",
   "language": "python",
   "name": "python3"
  },
  "language_info": {
   "codemirror_mode": {
    "name": "ipython",
    "version": 3
   },
   "file_extension": ".py",
   "mimetype": "text/x-python",
   "name": "python",
   "nbconvert_exporter": "python",
   "pygments_lexer": "ipython3",
   "version": "3.6.8"
  }
 },
 "nbformat": 4,
 "nbformat_minor": 2
}
